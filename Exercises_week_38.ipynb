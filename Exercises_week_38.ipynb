{
 "cells": [
  {
   "cell_type": "markdown",
   "id": "ce05d309",
   "metadata": {
    "editable": true
   },
   "source": [
    "<!-- HTML file automatically generated from DocOnce source (https://github.com/doconce/doconce/)\n",
    "doconce format html exercisesweek38.do.txt  -->\n",
    "<!-- dom:TITLE: Exercises week 38 -->"
   ]
  },
  {
   "cell_type": "markdown",
   "id": "5b7c1442",
   "metadata": {
    "editable": true
   },
   "source": [
    "# Exercises week 38\n",
    "**September 18-22, 2023**\n",
    "\n",
    "Date: **Deadline is Sunday September 24 at midnight**"
   ]
  },
  {
   "cell_type": "markdown",
   "id": "02e09b06",
   "metadata": {
    "editable": true
   },
   "source": [
    "## Overarching aims of the exercises this week\n",
    "\n",
    "The aim of the exercises this week is to derive the equations for the bias-variance tradeoff to be used in project 1 as well as testing this for a simpler function using the bootstrap method. The exercises here can be reused in project 1 as well.\n",
    "\n",
    "Consider a\n",
    "dataset $\\mathcal{L}$ consisting of the data\n",
    "$\\mathbf{X}_\\mathcal{L}=\\{(y_j, \\boldsymbol{x}_j), j=0\\ldots n-1\\}$.\n",
    "\n",
    "We assume that the true data is generated from a noisy model"
   ]
  },
  {
   "cell_type": "markdown",
   "id": "babb7346",
   "metadata": {
    "editable": true
   },
   "source": [
    "$$\n",
    "\\boldsymbol{y}=f(\\boldsymbol{x}) + \\boldsymbol{\\epsilon}.\n",
    "$$"
   ]
  },
  {
   "cell_type": "markdown",
   "id": "a5ee908c",
   "metadata": {
    "editable": true
   },
   "source": [
    "Here $\\epsilon$ is normally distributed with mean zero and standard\n",
    "deviation $\\sigma^2$.\n",
    "\n",
    "In our derivation of the ordinary least squares method we defined \n",
    "an approximation to the function $f$ in terms of the parameters\n",
    "$\\boldsymbol{\\beta}$ and the design matrix $\\boldsymbol{X}$ which embody our model,\n",
    "that is $\\boldsymbol{\\tilde{y}}=\\boldsymbol{X}\\boldsymbol{\\beta}$.\n",
    "\n",
    "The parameters $\\boldsymbol{\\beta}$ are in turn found by optimizing the mean\n",
    "squared error via the so-called cost function"
   ]
  },
  {
   "cell_type": "markdown",
   "id": "afa3df2c",
   "metadata": {
    "editable": true
   },
   "source": [
    "$$\n",
    "C(\\boldsymbol{X},\\boldsymbol{\\beta}) =\\frac{1}{n}\\sum_{i=0}^{n-1}(y_i-\\tilde{y}_i)^2=\\mathbb{E}\\left[(\\boldsymbol{y}-\\boldsymbol{\\tilde{y}})^2\\right].\n",
    "$$"
   ]
  },
  {
   "cell_type": "markdown",
   "id": "9665df80",
   "metadata": {
    "editable": true
   },
   "source": [
    "Here the expected value $\\mathbb{E}$ is the sample value. \n",
    "\n",
    "Show that you can rewrite  this in terms of a term which contains the variance of the model itself (the so-called variance term), a\n",
    "term which measures the deviation from the true data and the mean value of the model (the bias term) and finally the variance of the noise.\n",
    "That is, show that"
   ]
  },
  {
   "cell_type": "markdown",
   "id": "25391aba",
   "metadata": {
    "editable": true
   },
   "source": [
    "$$\n",
    "\\mathbb{E}\\left[(\\boldsymbol{y}-\\boldsymbol{\\tilde{y}})^2\\right]=\\mathrm{Bias}[\\tilde{y}]+\\mathrm{var}[\\tilde{y}]+\\sigma^2,\n",
    "$$"
   ]
  },
  {
   "cell_type": "markdown",
   "id": "b6e8652c",
   "metadata": {
    "editable": true
   },
   "source": [
    "with"
   ]
  },
  {
   "cell_type": "markdown",
   "id": "77755270",
   "metadata": {
    "editable": true
   },
   "source": [
    "$$\n",
    "\\mathrm{Bias}[\\tilde{y}]=\\mathbb{E}\\left[\\left(\\boldsymbol{y}-\\mathbb{E}\\left[\\boldsymbol{\\tilde{y}}\\right]\\right)^2\\right],\n",
    "$$"
   ]
  },
  {
   "cell_type": "markdown",
   "id": "fa94db90",
   "metadata": {
    "editable": true
   },
   "source": [
    "and"
   ]
  },
  {
   "cell_type": "markdown",
   "id": "4ecda624",
   "metadata": {
    "editable": true
   },
   "source": [
    "$$\n",
    "\\mathrm{var}[\\tilde{y}]=\\mathbb{E}\\left[\\left(\\tilde{\\boldsymbol{y}}-\\mathbb{E}\\left[\\boldsymbol{\\tilde{y}}\\right]\\right)^2\\right]=\\frac{1}{n}\\sum_i(\\tilde{y}_i-\\mathbb{E}\\left[\\boldsymbol{\\tilde{y}}\\right])^2.\n",
    "$$"
   ]
  },
  {
   "cell_type": "markdown",
   "id": "2dcb3e9a",
   "metadata": {
    "editable": true
   },
   "source": [
    "Explain what the terms mean and discuss their interpretations.\n",
    "\n",
    "Perform then a bias-variance analysis of a simple one-dimensional (or other models of your choice)  function by\n",
    "studying the MSE value as function of the complexity of your model. Use ordinary least squares only.\n",
    "\n",
    "Discuss the bias and variance trade-off as function\n",
    "of your model complexity (the degree of the polynomial) and the number\n",
    "of data points, and possibly also your training and test data using the **bootstrap** resampling method.\n",
    "You can follow the code example in the jupyter-book at <https://compphysics.github.io/MachineLearning/doc/LectureNotes/_build/html/chapter3.html#the-bias-variance-tradeoff>.\n",
    "\n",
    "See also the whiteboard notes from week 37 at <https://github.com/CompPhysics/MachineLearning/blob/master/doc/HandWrittenNotes/2023/NotesSep14.pdf>"
   ]
  },
  {
   "cell_type": "markdown",
   "id": "13a558b5",
   "metadata": {},
   "source": [
    "## <h2 style=\"text-align: center;\"> <ins> Discussion (1): </ins> </h2>\n",
    "\n",
    "### <ins> Bias: </ins>\n",
    "\n",
    "Bias in statistics or statistical theory is a feauture where data that is estimated or approximated in accordance to a given model, presents an inaccurate or skewed representation of the reality of the data. More technically this says that, if we assume that there is exists a statistic (or data) representing a certain reality of a phenomenon, and a parameter describing the true value of the population, then the bias tells us how much the average value of the statistic (estimation) deviates from the population or true value.\n",
    "\n",
    "In mathematical terms it says that:\n",
    "\n",
    "Suppose we have a statistic or a set of data $ \\bm{X}$ and estimator (or true value) $\\phi$. Then the bias is defined as \n",
    "\\begin{align*}\n",
    "\\text{Bias}(\\bm{X}, \\phi) = \\mathbb{E}(\\bm{X}) - \\phi.\n",
    "\\end{align*}\n",
    "\n",
    "In our case we then observe that the bias tells us how much the mean values of $\\tilde{\\bm{y}}$ deviate from the values of $\\bm{y}$ by calculating the average of these measures.\n",
    "\n",
    "### <ins> Variance: </ins>\n",
    "\n",
    "Variance is a rudimentary and essential feature of statistical analysis. The variance of a statistic or data set explains how much spread or dispersity there is to the data being analysed or modelled. Hence if there is high variance within the data, then that implies a clear propensity of high dispersity among the individual data. The contrary situation then follows logically. \n",
    "\n",
    "In mathematical terms: \n",
    "\n",
    "Suppose there exists a set of data $\\bm{X}$ again with expected value $\\mathbb{E}(\\bm{X}) = \\mu$. Then the variance of $\\bm{X}$ is defined as \n",
    "\\begin{align*}\n",
    "\\text{Var}(\\bm{X}) = \\mathbb{E}((\\bm{X} - \\mu)^2) = \\mathbb{E}(\\bm{X}^2) - \\mathbb{E}(\\bm{X})^2.\n",
    "\\end{align*}\n",
    "\n",
    "Which shows that the variance simply depicts what the average value of the difference between all the data $x_i$ of $\\bm{X}$ and its mean value is.\n",
    "\n",
    "In our case we apply this to our estimation model $\\tilde{\\bm{y}}$ such that we can further analyse how concentrated our data are. "
   ]
  },
  {
   "cell_type": "code",
   "execution_count": 1,
   "id": "606eb369",
   "metadata": {},
   "outputs": [
    {
     "name": "stdout",
     "output_type": "stream",
     "text": [
      "deg(p(x)): 0\n",
      "Error: 0.34744\n",
      "-------------- \n",
      "\n",
      "Bias: 0.34456\n",
      "Var: 0.00288\n",
      "-------------- \n",
      "0.34744 >= 0.34456 + 0.00288 = 0.34744 \n",
      "\n",
      "deg(p(x)): 1\n",
      "Error: 0.08322\n",
      "-------------- \n",
      "\n",
      "Bias: 0.08076\n",
      "Var: 0.00246\n",
      "-------------- \n",
      "0.08322 >= 0.08076 + 0.00246 = 0.08322 \n",
      "\n",
      "deg(p(x)): 2\n",
      "Error: 0.09299\n",
      "-------------- \n",
      "\n",
      "Bias: 0.09086\n",
      "Var: 0.00213\n",
      "-------------- \n",
      "0.09299 >= 0.09086 + 0.00213 = 0.09299 \n",
      "\n",
      "deg(p(x)): 3\n",
      "Error: 0.04401\n",
      "-------------- \n",
      "\n",
      "Bias: 0.04221\n",
      "Var: 0.00180\n",
      "-------------- \n",
      "0.04401 >= 0.04221 + 0.00180 = 0.04401 \n",
      "\n",
      "deg(p(x)): 4\n",
      "Error: 0.04407\n",
      "-------------- \n",
      "\n",
      "Bias: 0.04189\n",
      "Var: 0.00219\n",
      "-------------- \n",
      "0.04407 >= 0.04189 + 0.00219 = 0.04407 \n",
      "\n",
      "deg(p(x)): 5\n",
      "Error: 0.02782\n",
      "-------------- \n",
      "\n",
      "Bias: 0.02513\n",
      "Var: 0.00269\n",
      "-------------- \n",
      "0.02782 >= 0.02513 + 0.00269 = 0.02782 \n",
      "\n",
      "deg(p(x)): 6\n",
      "Error: 0.02238\n",
      "-------------- \n",
      "\n",
      "Bias: 0.01809\n",
      "Var: 0.00429\n",
      "-------------- \n",
      "0.02238 >= 0.01809 + 0.00429 = 0.02238 \n",
      "\n",
      "deg(p(x)): 7\n",
      "Error: 0.01926\n",
      "-------------- \n",
      "\n",
      "Bias: 0.01496\n",
      "Var: 0.00430\n",
      "-------------- \n",
      "0.01926 >= 0.01496 + 0.00430 = 0.01926 \n",
      "\n",
      "deg(p(x)): 8\n",
      "Error: 0.01277\n",
      "-------------- \n",
      "\n",
      "Bias: 0.01141\n",
      "Var: 0.00136\n",
      "-------------- \n",
      "0.01277 >= 0.01141 + 0.00136 = 0.01277 \n",
      "\n",
      "deg(p(x)): 9\n",
      "Error: 0.01328\n",
      "-------------- \n",
      "\n",
      "Bias: 0.01112\n",
      "Var: 0.00216\n",
      "-------------- \n",
      "0.01328 >= 0.01112 + 0.00216 = 0.01328 \n",
      "\n",
      "deg(p(x)): 10\n",
      "Error: 0.01341\n",
      "-------------- \n",
      "\n",
      "Bias: 0.01093\n",
      "Var: 0.00249\n",
      "-------------- \n",
      "0.01341 >= 0.01093 + 0.00249 = 0.01341 \n",
      "\n",
      "deg(p(x)): 11\n",
      "Error: 0.01380\n",
      "-------------- \n",
      "\n",
      "Bias: 0.01094\n",
      "Var: 0.00286\n",
      "-------------- \n",
      "0.01380 >= 0.01094 + 0.00286 = 0.01380 \n",
      "\n",
      "deg(p(x)): 12\n",
      "Error: 0.01533\n",
      "-------------- \n",
      "\n",
      "Bias: 0.01135\n",
      "Var: 0.00398\n",
      "-------------- \n",
      "0.01533 >= 0.01135 + 0.00398 = 0.01533 \n",
      "\n",
      "deg(p(x)): 13\n",
      "Error: 0.04454\n",
      "-------------- \n",
      "\n",
      "Bias: 0.01364\n",
      "Var: 0.03090\n",
      "-------------- \n",
      "0.04454 >= 0.01364 + 0.03090 = 0.04454 \n",
      "\n",
      "deg(p(x)): 14\n",
      "Error: 0.02440\n",
      "-------------- \n",
      "\n",
      "Bias: 0.01320\n",
      "Var: 0.01120\n",
      "-------------- \n",
      "0.02440 >= 0.01320 + 0.01120 = 0.02440 \n",
      "\n",
      "deg(p(x)): 15\n",
      "Error: 0.04021\n",
      "-------------- \n",
      "\n",
      "Bias: 0.01512\n",
      "Var: 0.02509\n",
      "-------------- \n",
      "0.04021 >= 0.01512 + 0.02509 = 0.04021 \n",
      "\n",
      "deg(p(x)): 16\n",
      "Error: 3.84671\n",
      "-------------- \n",
      "\n",
      "Bias: 0.05449\n",
      "Var: 3.79222\n",
      "-------------- \n",
      "3.84671 >= 0.05449 + 3.79222 = 3.84671 \n",
      "\n",
      "deg(p(x)): 17\n",
      "Error: 0.08652\n",
      "-------------- \n",
      "\n",
      "Bias: 0.01810\n",
      "Var: 0.06842\n",
      "-------------- \n",
      "0.08652 >= 0.01810 + 0.06842 = 0.08652 \n",
      "\n",
      "deg(p(x)): 18\n",
      "Error: 0.20118\n",
      "-------------- \n",
      "\n",
      "Bias: 0.02505\n",
      "Var: 0.17613\n",
      "-------------- \n",
      "0.20118 >= 0.02505 + 0.17613 = 0.20118 \n",
      "\n",
      "deg(p(x)): 19\n",
      "Error: 12.62576\n",
      "-------------- \n",
      "\n",
      "Bias: 0.10437\n",
      "Var: 12.52140\n",
      "-------------- \n",
      "12.62576 >= 0.10437 + 12.52140 = 12.62576 \n",
      "\n"
     ]
    },
    {
     "data": {
      "image/png": "[encoded data removed]",
      "text/plain": [
       "<Figure size 432x288 with 1 Axes>"
      ]
     },
     "metadata": {
      "needs_background": "light"
     },
     "output_type": "display_data"
    }
   ],
   "source": [
    "import numpy as np\n",
    "from sklearn.metrics import mean_squared_error, r2_score\n",
    "from sklearn.model_selection import train_test_split\n",
    "from sklearn.linear_model import LinearRegression, Ridge, Lasso\n",
    "from sklearn.preprocessing import StandardScaler\n",
    "import matplotlib.pyplot as plt\n",
    "from mpl_toolkits.mplot3d import Axes3D\n",
    "from matplotlib import cm\n",
    "from matplotlib.ticker import LinearLocator, FormatStrFormatter\n",
    "from sklearn import linear_model\n",
    "from sklearn.pipeline import make_pipeline\n",
    "import seaborn as sns\n",
    "import pandas as pd\n",
    "from sklearn.utils import resample\n",
    "from sklearn.preprocessing import PolynomialFeatures\n",
    "\n",
    "np.random.seed(2018)\n",
    "\n",
    "n = 100\n",
    "n_boostraps = 250\n",
    "maxdegree = 20\n",
    "\n",
    "# Make data set.\n",
    "x = np.linspace(-3, 3, n).reshape(-1, 1)\n",
    "y = np.exp(-x**2) + 1.5 * np.exp(-(x-2)**2)+ np.random.normal(0, 0.1, x.shape)\n",
    "error = np.zeros(maxdegree)\n",
    "bias = np.zeros(maxdegree)\n",
    "variance = np.zeros(maxdegree)\n",
    "polydegree = np.zeros(maxdegree)\n",
    "x_train, x_test, y_train, y_test = train_test_split(x, y, test_size=0.2)\n",
    "\n",
    "for degree in range(maxdegree):\n",
    "    model = make_pipeline(PolynomialFeatures(degree=degree), LinearRegression(fit_intercept=False))\n",
    "    y_pred = np.empty((y_test.shape[0], n_boostraps))\n",
    "    for i in range(n_boostraps):\n",
    "        x_, y_ = resample(x_train, y_train)\n",
    "        y_pred[:, i] = model.fit(x_, y_).predict(x_test).ravel()\n",
    "\n",
    "    polydegree[degree] = degree\n",
    "    error[degree] = np.mean( np.mean((y_test - y_pred)**2, axis=1, keepdims=True) )\n",
    "    bias[degree] = np.mean( (y_test - np.mean(y_pred, axis=1, keepdims=True))**2 )\n",
    "    variance[degree] = np.mean( np.var(y_pred, axis=1, keepdims=True) )\n",
    "    print(r'deg(p(x)):', degree)\n",
    "    print('Error:', f'{error[degree]:.5f}')\n",
    "    print('-------------- \\n')\n",
    "    print('Bias:', f'{bias[degree]:.5f}')\n",
    "    print('Var:', f'{variance[degree]:.5f}')\n",
    "    print('-------------- ')\n",
    "    print('{:.5f} >= {:.5f} + {:.5f} = {:.5f} \\n'.format(error[degree], bias[degree], variance[degree], bias[degree]+variance[degree]))\n",
    "\n",
    "plt.plot(polydegree, error, 'r', label='Error')\n",
    "plt.plot(polydegree, bias,'b', label='bias')\n",
    "plt.plot(polydegree, variance,'g', label='Variance')\n",
    "plt.grid(True)\n",
    "plt.xlabel(r'deg($p(x)$)')\n",
    "plt.ylabel('Error, Bias, Variance')\n",
    "plt.title('Bias-Variance tradeoff')\n",
    "plt.legend()\n",
    "plt.show()"
   ]
  },
  {
   "cell_type": "markdown",
   "id": "98a38324",
   "metadata": {},
   "source": [
    "## <h2 style=\"text-align: center;\"> <ins> Discussion (2): </ins> </h2>\n",
    "\n",
    "By modelling the variance and bias through a simple bootstraping it becomes evident(though not disturbingly) that the error measure to our model decreases and the accuracy increases. Nevertheless, as seen from the plot above one can encounter a severe issue of what is called overfitting. Given our models complexity and the continuity of the data at hand it is important to be cognizant of the fact that trying to fit the points with too much accuracy might also disturb the true value of the parameter. This would in turn (if the data are well dispersed) result in a high variance (as shown above) and accordingly increase the error measure. \n",
    "\n",
    "In this respect we observe that for polynomial fitting of $deg(p(x)) > 15$ results in drastic overfitting and makes the model fairly inaccurate.\n",
    "\n",
    "Thus to conclude in short, is there (often times) a higher need to model the evolution of the data in its entirety, than trying to fit each single individual data point with close to perfect accuracy."
   ]
  }
 ],
 "metadata": {
  "kernelspec": {
   "display_name": "in3050",
   "language": "python",
   "name": "python3"
  },
  "language_info": {
   "codemirror_mode": {
    "name": "ipython",
    "version": 3
   },
   "file_extension": ".py",
   "mimetype": "text/x-python",
   "name": "python",
   "nbconvert_exporter": "python",
   "pygments_lexer": "ipython3",
   "version": "3.9.7"
  }
 },
 "nbformat": 4,
 "nbformat_minor": 5
}
