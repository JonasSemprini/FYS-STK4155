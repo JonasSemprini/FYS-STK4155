{
 "cells": [
  {
   "cell_type": "markdown",
   "id": "053b96d5",
   "metadata": {
    "editable": true
   },
   "source": [
    "<!-- HTML file automatically generated from DocOnce source (https://github.com/doconce/doconce/)\n",
    "doconce format html exercisesweek35.do.txt  -->\n",
    "<!-- dom:TITLE: Exercises week 35 -->"
   ]
  },
  {
   "cell_type": "markdown",
   "id": "a09cb811",
   "metadata": {
    "editable": true
   },
   "source": [
    "# Exercises week 35\n",
    "**August 28-September 1, 2023**\n",
    "\n",
    "Date: **Deadline is Friday September 3 at midnight**"
   ]
  },
  {
   "cell_type": "markdown",
   "id": "8e83839e",
   "metadata": {
    "editable": true
   },
   "source": [
    "## Exercise 1: Analytical exercises\n",
    "\n",
    "In this exercise we derive the expressions for various derivatives of\n",
    "products of vectors and matrices. Such derivatives are central to the\n",
    "optimization of various cost functions. Although we will often use\n",
    "automatic differentiation in actual calculations, to be able to have\n",
    "analytical expressions is extremely helpful in case we have simpler\n",
    "derivatives as well as when we analyze various properties (like second\n",
    "derivatives) of the chosen cost functions.  Vectors are always written\n",
    "as boldfaced lower case letters and matrices as upper case boldfaced\n",
    "letters. You will find useful the notes from week 35 on derivatives of vectors and matrices.\n",
    "\n",
    "Show that"
   ]
  },
  {
   "cell_type": "markdown",
   "id": "fe2b1c49",
   "metadata": {
    "editable": true
   },
   "source": [
    "$$\n",
    "\\frac{\\partial (\\boldsymbol{b}^T\\boldsymbol{a})}{\\partial \\boldsymbol{a}} = \\boldsymbol{b},\n",
    "$$"
   ]
  },
  {
   "cell_type": "markdown",
   "id": "259f2ad1",
   "metadata": {
    "editable": true
   },
   "source": [
    "and"
   ]
  },
  {
   "cell_type": "markdown",
   "id": "5ac63202",
   "metadata": {
    "editable": true
   },
   "source": [
    "$$\n",
    "\\frac{\\partial (\\boldsymbol{a}^T\\boldsymbol{A}\\boldsymbol{a})}{\\partial \\boldsymbol{a}} = \\boldsymbol{a}^T(\\boldsymbol{A}+\\boldsymbol{A}^T),\n",
    "$$"
   ]
  },
  {
   "cell_type": "markdown",
   "id": "a52c6353",
   "metadata": {
    "editable": true
   },
   "source": [
    "and"
   ]
  },
  {
   "cell_type": "markdown",
   "id": "910282dd",
   "metadata": {
    "editable": true
   },
   "source": [
    "$$\n",
    "\\frac{\\partial \\left(\\boldsymbol{x}-\\boldsymbol{A}\\boldsymbol{s}\\right)^T\\left(\\boldsymbol{x}-\\boldsymbol{A}\\boldsymbol{s}\\right)}{\\partial \\boldsymbol{s}} = -2\\left(\\boldsymbol{x}-\\boldsymbol{A}\\boldsymbol{s}\\right)^T\\boldsymbol{A},\n",
    "$$"
   ]
  },
  {
   "cell_type": "markdown",
   "id": "f3d0f2f5",
   "metadata": {
    "editable": true
   },
   "source": [
    "and finally find the second derivative of this function with respect to the vector $\\boldsymbol{s}$. If we replace the vector $\\boldsymbol{s}$ with the unknown parameters $\\boldsymbol{\\beta}$ used to define the ordinary least squares method, we end up with the equations that determine these parameters. The matrix $\\boldsymbol{A}$ is then the design matrix $\\boldsymbol{X}$ and $\\boldsymbol{x}$ here has to be replaced with the outputs $\\boldsymbol{y}$.\n",
    "\n",
    "The second derivative of the mean squared error is then proportional to the so-called Hessian matrix $\\boldsymbol{H}=\\boldsymbol{X}^T\\boldsymbol{X}$.\n",
    "\n",
    "**Hint**: In these exercises it is always useful to write out with summation indices the various quantities.\n",
    "As an example, consider the function"
   ]
  },
  {
   "cell_type": "markdown",
   "id": "5fe4bc49",
   "metadata": {
    "editable": true
   },
   "source": [
    "$$\n",
    "f(\\boldsymbol{x}) =\\boldsymbol{A}\\boldsymbol{x},\n",
    "$$"
   ]
  },
  {
   "cell_type": "markdown",
   "id": "55fee214",
   "metadata": {
    "editable": true
   },
   "source": [
    "which reads for a specific component $f_i$ (we define the matrix $\\boldsymbol{A}$ to have dimension $n\\times n$ and the vector $\\boldsymbol{x}$ to have length $n$)"
   ]
  },
  {
   "cell_type": "markdown",
   "id": "92b0b614",
   "metadata": {
    "editable": true
   },
   "source": [
    "$$\n",
    "f_i =\\sum_{j=0}^{n-1}a_{ij}x_j,\n",
    "$$"
   ]
  },
  {
   "cell_type": "markdown",
   "id": "6b68973e",
   "metadata": {
    "editable": true
   },
   "source": [
    "which leads to"
   ]
  },
  {
   "cell_type": "markdown",
   "id": "89e679e8",
   "metadata": {
    "editable": true
   },
   "source": [
    "$$\n",
    "\\frac{\\partial f_i}{\\partial x_j}= a_{ij},\n",
    "$$"
   ]
  },
  {
   "cell_type": "markdown",
   "id": "a35b6ab2",
   "metadata": {
    "editable": true
   },
   "source": [
    "and written out in terms of the vector $\\boldsymbol{x}$ we have"
   ]
  },
  {
   "cell_type": "markdown",
   "id": "747d2724",
   "metadata": {
    "editable": true
   },
   "source": [
    "$$\n",
    "\\frac{\\partial f(\\boldsymbol{x})}{\\partial \\boldsymbol{x}}= \\boldsymbol{A}.\n",
    "$$"
   ]
  },
  {
   "cell_type": "markdown",
   "id": "911dc89a",
   "metadata": {
    "editable": true
   },
   "source": [
    "## Exercise 2: making your own data and exploring scikit-learn\n",
    "\n",
    "We will generate our own dataset for a function $y(x)$ where $x \\in\n",
    "[0,1]$ and defined by random numbers computed with the uniform\n",
    "distribution. The function $y$ is a quadratic polynomial in $x$ with\n",
    "added stochastic noise according to the normal distribution $\\cal\n",
    "{N}(0,1)$.  The following simple Python instructions define our $x$\n",
    "and $y$ values (with 100 data points)."
   ]
  },
  {
   "cell_type": "code",
   "execution_count": 99,
   "id": "09971906",
   "metadata": {
    "collapsed": false,
    "editable": true
   },
   "outputs": [],
   "source": [
    "import os\n",
    "import numpy as np\n",
    "import pandas as pd\n",
    "import matplotlib.pyplot as plt\n",
    "from sklearn.model_selection import train_test_split\n",
    "from sklearn.metrics import mean_squared_error, r2_score\n",
    "from tabulate import tabulate\n",
    "from sklearn.linear_model import LinearRegression, Ridge, Lasso\n",
    "from sklearn.preprocessing import PolynomialFeatures, StandardScaler\n",
    "from sklearn.pipeline import make_pipeline\n",
    "\n",
    "#Declaring functions for MSE and R2 computation \n",
    "def R2(y_data, y_model):\n",
    "    return 1 - np.sum((y_data - y_model) ** 2) / np.sum((y_data - np.mean(y_data)) ** 2)\n",
    "\n",
    "\n",
    "def MSE(y_data, y_model):\n",
    "    n = np.size(y_model)\n",
    "    return np.sum((y_data-y_model)**2)/n\n",
    "\n",
    "# initiating the data-set \n",
    "x = np.random.rand(100,1)\n",
    "y = 2.0+5*x*x+0.1*np.random.randn(100,1)\n",
    "\n",
    "\n"
   ]
  },
  {
   "cell_type": "markdown",
   "id": "de82ebe8",
   "metadata": {
    "editable": true
   },
   "source": [
    "1. Write your own code (following the examples under the [regression notes](https://compphysics.github.io/MachineLearning/doc/LectureNotes/_build/html/chapter1.html)) for computing the parametrization of the data set fitting a second-order polynomial. \n",
    "\n",
    "2. Use thereafter **scikit-learn** (see again the examples in the slides for week 35) and compare with your own code. Note here that **scikit-learn** does not include, by default, the intercept. See the discussions on scaling your data in the slides for this week. This type of problems appear in particular if we fit a polynomial with an intercept. \n",
    "\n",
    "3. Using scikit-learn, compute also the mean squared error, a risk metric corresponding to the expected value of the squared (quadratic) error defined as"
   ]
  },
  {
   "cell_type": "code",
   "execution_count": 100,
   "id": "526c04a2",
   "metadata": {},
   "outputs": [
    {
     "name": "stdout",
     "output_type": "stream",
     "text": [
      "╒══════════════════╤════════════╤══════════╕\n",
      "│ Implementation   │        MSE │       R2 │\n",
      "╞══════════════════╪════════════╪══════════╡\n",
      "│ Individual       │ 0.00743459 │ 0.997094 │\n",
      "├──────────────────┼────────────┼──────────┤\n",
      "│ SckiKit          │ 0.00743459 │ 0.997094 │\n",
      "╘══════════════════╧════════════╧══════════╛\n",
      "-------------------------------------------------------- \n",
      "\n",
      "Mean Square Error difference: 2.6020852139652106e-18 \n",
      "\n",
      "R2 Error difference: 0.0 \n",
      "\n"
     ]
    },
    {
     "data": {
      "image/png": "[encoded data removed]",
      "text/plain": [
       "<Figure size 432x288 with 1 Axes>"
      ]
     },
     "metadata": {
      "needs_background": "light"
     },
     "output_type": "display_data"
    }
   ],
   "source": [
    "n = 3\n",
    "X = np.zeros((len(x), n))\n",
    "\n",
    "# Design matrix for a polynomial of degree two\n",
    "X[:, 0] = 1.0\n",
    "for i in range(1, n):\n",
    "    X[:, i] = x[:, 0]**i\n",
    "\n",
    "beta = (np.linalg.inv(X.T @ X) @ X.T) @ y\n",
    "\n",
    "ypredict = X @ beta\n",
    "\n",
    "linReg = LinearRegression()\n",
    "linReg.fit(X, y)\n",
    "ypredict_sklearn = linReg.predict(X)\n",
    "\n",
    "mse_pred = MSE(y, ypredict)\n",
    "mse_predsci = MSE(y, ypredict_sklearn)\n",
    "r2_pred = R2(y, ypredict)\n",
    "r2_predsci = R2(y, ypredict_sklearn)\n",
    "\n",
    "col_names = [\"Implementation\", \"MSE\", \"R2\"]\n",
    "\n",
    "data = [[\"Individual\", mse_pred, r2_pred], \n",
    "        [\"SckiKit\", mse_predsci, r2_predsci]]\n",
    "\n",
    "x_sorted, y_predict = zip(*sorted(zip(x, ypredict)))\n",
    "\n",
    "x_ss, y_preds = zip(*sorted(zip(x, ypredict_sklearn)))\n",
    "\n",
    "print(tabulate(data, headers=col_names, tablefmt=\"fancy_grid\"))\n",
    "print(\"-------------------------------------------------------- \\n\")\n",
    "\n",
    "print(f\"Mean Square Error difference: {abs(mse_pred- mse_predsci)} \\n\")\n",
    "\n",
    "print(f\"R2 Error difference: {abs(r2_pred- r2_predsci)} \\n\")\n",
    "\n",
    "plt.plot(x, y, 'r+', label='Data points')\n",
    "plt.plot(x_sorted, y_predict, label='Regression Model')\n",
    "plt.xlabel(r\"$x$\")\n",
    "plt.ylabel(r\"$y$\")\n",
    "plt.title('Regression model with Sci-Kit')\n",
    "plt.grid()\n",
    "plt.legend()\n",
    "plt.show()\n"
   ]
  },
  {
   "cell_type": "markdown",
   "id": "21b2c91f",
   "metadata": {
    "editable": true
   },
   "source": [
    "$$\n",
    "MSE(\\boldsymbol{y},\\boldsymbol{\\tilde{y}}) = \\frac{1}{n}\n",
    "\\sum_{i=0}^{n-1}(y_i-\\tilde{y}_i)^2,\n",
    "$$"
   ]
  },
  {
   "cell_type": "markdown",
   "id": "3b542aa1",
   "metadata": {
    "editable": true
   },
   "source": [
    "and the $R^2$ score function.\n",
    "If $\\tilde{\\boldsymbol{y}}_i$ is the predicted value of the $i-th$ sample and $y_i$ is the corresponding true value, then the score $R^2$ is defined as"
   ]
  },
  {
   "cell_type": "markdown",
   "id": "5393a93f",
   "metadata": {
    "editable": true
   },
   "source": [
    "$$\n",
    "R^2(\\boldsymbol{y}, \\tilde{\\boldsymbol{y}}) = 1 - \\frac{\\sum_{i=0}^{n - 1} (y_i - \\tilde{y}_i)^2}{\\sum_{i=0}^{n - 1} (y_i - \\bar{y})^2},\n",
    "$$"
   ]
  },
  {
   "cell_type": "markdown",
   "id": "df1b8e23",
   "metadata": {
    "editable": true
   },
   "source": [
    "where we have defined the mean value  of $\\boldsymbol{y}$ as"
   ]
  },
  {
   "cell_type": "markdown",
   "id": "30ad9bb6",
   "metadata": {
    "editable": true
   },
   "source": [
    "$$\n",
    "\\bar{y} =  \\frac{1}{n} \\sum_{i=0}^{n - 1} y_i.\n",
    "$$"
   ]
  },
  {
   "cell_type": "markdown",
   "id": "0e2c0d15",
   "metadata": {
    "editable": true
   },
   "source": [
    "You can use the functionality included in scikit-learn. If you feel for it, you can use your own program and define functions which compute the above two functions. \n",
    "Discuss the meaning of these results. Try also to vary the coefficient in front of the added stochastic noise term and discuss the quality of the fits."
   ]
  },
  {
   "cell_type": "markdown",
   "id": "0ecf29a4",
   "metadata": {},
   "source": [
    "### Discussion \n",
    "\n",
    "By clear observations, both by the presented plot, and the computed score values for the MSE and $R^2$ it`s evident that the model is accurate. The higher the $R^2$ score is the better the model is, which in this case is very high (i.e 99.7%). Though to be noted, if one increases the stochastic noise term in the model, the MSE increases and the $R^2$ score decreases where on the other hand the opposite happens if you decrease it. "
   ]
  },
  {
   "cell_type": "markdown",
   "id": "80eab896",
   "metadata": {
    "editable": true
   },
   "source": [
    "## Exercise 3: Split data in test and training data\n",
    "\n",
    "In this exercise we want you to to compute the MSE for the training\n",
    "data and the test data as function of the complexity of a polynomial,\n",
    "that is the degree of a given polynomial.  \n",
    "\n",
    "The aim is to reproduce Figure 2.11 of [Hastie et al](https://github.com/CompPhysics/MLErasmus/blob/master/doc/Textbooks/elementsstat.pdf).\n",
    "Feel free to read the discussions leading to figure 2.11 of Hastie et al. \n",
    "\n",
    "Our data is defined by $x\\in [-3,3]$ with a total of for example $n=100$ data points. You should try to vary the number of data points $n$ in your analysis."
   ]
  },
  {
   "cell_type": "code",
   "execution_count": 101,
   "id": "887378fa",
   "metadata": {
    "collapsed": false,
    "editable": true
   },
   "outputs": [
    {
     "data": {
      "image/png": "[encoded data removed]",
      "text/plain": [
       "<Figure size 432x288 with 1 Axes>"
      ]
     },
     "metadata": {
      "needs_background": "light"
     },
     "output_type": "display_data"
    }
   ],
   "source": [
    "np.random.seed(2018) #Making the generating process of numbers more random\n",
    "n = 200 #number of points\n",
    "deg = 20\n",
    "#Creation of the data-set\n",
    "x = np.linspace(-3, 3, n).reshape(-1, 1)\n",
    "y = np.exp(-x**2) + 1.5 * np.exp(-(x-2)**2) + np.random.normal(0, 0.1, x.shape)\n",
    "\n",
    "\n",
    "def R2(y_data, y_model):\n",
    "    return 1 - np.sum((y_data - y_model) ** 2) / np.sum((y_data - np.mean(y_data)) ** 2)\n",
    "\n",
    "\n",
    "def MSE(y_data, y_model):\n",
    "    n = np.size(y_model)\n",
    "    return np.sum((y_data-y_model)**2)/n\n",
    "    \n",
    "TestError = np.zeros(deg)\n",
    "TrainError = np.zeros(deg)\n",
    "polydegree = np.zeros(deg)\n",
    "\n",
    "\n",
    "#Design matrix for a fifth order polynomial\n",
    "\n",
    "X = np.zeros((len(x), deg))\n",
    "for i in range(0, deg):\n",
    "    X[:, i] = x[:, 0]**i\n",
    "\n",
    "#Test and training set\n",
    "x_train, x_test, y_train, y_test = train_test_split(X, y, test_size=0.2)\n",
    "\n",
    "\n",
    "beta = (np.linalg.inv(x_train.T @ x_train) @ x_train.T) @ y_train\n",
    "\n",
    "y_tilde = x_train @ beta\n",
    "\n",
    "y_predict = x_test @ beta\n",
    "\n",
    "\n",
    "plt.plot(x,y, 'r+', label=f'Data Points: {n}')\n",
    "plt.plot(x_train[:,1], y_tilde, 'g+', label=f'Regression Model, Max degree: {deg}')\n",
    "plt.xlabel(r\"$x$\")\n",
    "plt.ylabel(r\"$y$\")\n",
    "plt.legend()\n",
    "plt.grid()\n",
    "plt.show()\n"
   ]
  },
  {
   "cell_type": "markdown",
   "id": "a059a330",
   "metadata": {
    "editable": true
   },
   "source": [
    "where $y$ is the function we want to fit with a given polynomial."
   ]
  },
  {
   "cell_type": "markdown",
   "id": "e2614fe9",
   "metadata": {
    "editable": true
   },
   "source": [
    "**a)**\n",
    "Write a first code which sets up a design matrix $X$ defined by a fifth-order polynomial and split your data set in training and test data."
   ]
  },
  {
   "cell_type": "markdown",
   "id": "8522c8f4",
   "metadata": {
    "editable": true
   },
   "source": [
    "**b)**\n",
    "Write thereafter (using either **scikit-learn** or your matrix inversion code using for example **numpy**)\n",
    "and perform an ordinary least squares fitting and compute the mean squared error for the training data and the test data. These calculations should apply to a model given by a fifth-order polynomial.  If you compare your own code with _scikit_learn_, not that the latter does not include by default the intercept. See the discussions on scaling your data in the slides for this week."
   ]
  },
  {
   "cell_type": "code",
   "execution_count": 102,
   "id": "108156dc",
   "metadata": {},
   "outputs": [
    {
     "name": "stdout",
     "output_type": "stream",
     "text": [
      "╒══════════════════╤════════════╤══════════╕\n",
      "│ Implementation   │        MSE │       R2 │\n",
      "╞══════════════════╪════════════╪══════════╡\n",
      "│ Individual       │ 0.00831721 │ 0.967959 │\n",
      "├──────────────────┼────────────┼──────────┤\n",
      "│ SckiKit          │ 0.00827096 │ 0.968722 │\n",
      "╘══════════════════╧════════════╧══════════╛\n",
      "-------------------------------------------------------- \n",
      "\n",
      "Mean Square Error difference: 4.6251059270197015e-05 \n",
      "\n",
      "R2 Error difference: 0.0007631380462761461 \n",
      "\n"
     ]
    }
   ],
   "source": [
    "linReg = LinearRegression()\n",
    "linReg.fit(X, y)\n",
    "ypredict_sklearn = linReg.predict(X)\n",
    "\n",
    "mse_pred = MSE(y_train, y_tilde)\n",
    "mse_predsci = MSE(y, ypredict_sklearn)\n",
    "r2_pred = R2(y_train, y_tilde)\n",
    "r2_predsci = R2(y, ypredict_sklearn)\n",
    "\n",
    "\n",
    "\n",
    "col_names = [\"Implementation\", \"MSE\", \"R2\"]\n",
    "\n",
    "data = [[\"Individual\", mse_pred, r2_pred],\n",
    "        [\"SckiKit\", mse_predsci, r2_predsci]]\n",
    "        \n",
    "print(tabulate(data, headers=col_names, tablefmt=\"fancy_grid\"))\n",
    "print(\"-------------------------------------------------------- \\n\")\n",
    "\n",
    "print(f\"Mean Square Error difference: {abs(mse_pred- mse_predsci)} \\n\")\n",
    "\n",
    "print(f\"R2 Error difference: {abs(r2_pred- r2_predsci)} \\n\")\n"
   ]
  },
  {
   "cell_type": "markdown",
   "id": "c4e99901",
   "metadata": {
    "editable": true
   },
   "source": [
    "**c)**\n",
    "Add now a model which allows you to make polynomials up to degree $15$.  Perform a standard OLS fitting of the training data and compute the MSE for the training and test data and plot both test and training data MSE as functions of the polynomial degree. Compare what you see with Figure 2.11 of Hastie et al. Comment your results. For which polynomial degree do you find an optimal MSE (smallest value)?"
   ]
  },
  {
   "cell_type": "code",
   "execution_count": 103,
   "id": "57fc60fd",
   "metadata": {},
   "outputs": [
    {
     "data": {
      "image/png": "[encoded data removed]",
      "text/plain": [
       "<Figure size 432x288 with 1 Axes>"
      ]
     },
     "metadata": {
      "needs_background": "light"
     },
     "output_type": "display_data"
    }
   ],
   "source": [
    "x_train, x_test, y_train, y_test = train_test_split(x, y, test_size=0.2)\n",
    "scaler = StandardScaler()\n",
    "scaler.fit(x_train)\n",
    "x_train_scaled = scaler.transform(x_train)\n",
    "x_test_scaled = scaler.transform(x_test)\n",
    "\n",
    "for degree in range(deg):\n",
    "    model = make_pipeline(PolynomialFeatures(degree=degree), LinearRegression(fit_intercept=False))\n",
    "    clf = model.fit(x_train_scaled, y_train)\n",
    "    y_fit = clf.predict(x_train_scaled)\n",
    "    y_pred = clf.predict(x_test_scaled)\n",
    "    polydegree[degree] = degree\n",
    "    TestError[degree] = np.mean(np.mean((y_test - y_pred)**2))\n",
    "    TrainError[degree] = np.mean(np.mean((y_train - y_fit)**2))\n",
    "\n",
    "plt.plot(polydegree, TestError, 'y',label='Test Error')\n",
    "plt.plot(polydegree, TrainError, 'r', label='Train Error')\n",
    "plt.xlabel(r'$deg(p(x))$')\n",
    "plt.ylabel('Error')\n",
    "plt.legend()\n",
    "plt.grid()\n",
    "plt.show()\n"
   ]
  },
  {
   "cell_type": "markdown",
   "id": "31891d89",
   "metadata": {},
   "source": [
    "### Discussion \n",
    "\n",
    "We obviously wouldn`t get the exact same picture of progressive MSE (as in Hastie) considering we do not know what type of data set or model they were using, but we do get a clear indication on where in the model we might have the best accuracy. By the plots above we can see that the approximated points are very close to the actual data points and that the $R^2$ score is again very high (around 97%) while the MSE is generally very low. There seems to be an absolute sweet spot around degrees 14-16/17. For polynomial degrees higher than 25 the dispersity rapidly changes and the model collapses which is also probably what the figure in Hastie is trying to portray."
   ]
  }
 ],
 "metadata": {
  "kernelspec": {
   "display_name": "in3050",
   "language": "python",
   "name": "python3"
  },
  "language_info": {
   "codemirror_mode": {
    "name": "ipython",
    "version": 3
   },
   "file_extension": ".py",
   "mimetype": "text/x-python",
   "name": "python",
   "nbconvert_exporter": "python",
   "pygments_lexer": "ipython3",
   "version": "3.9.7"
  }
 },
 "nbformat": 4,
 "nbformat_minor": 5
}
