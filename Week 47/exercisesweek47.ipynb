{
 "cells": [
  {
   "cell_type": "markdown",
   "id": "29616fbf",
   "metadata": {},
   "source": [
    "<!-- HTML file automatically generated from DocOnce source (https://github.com/doconce/doconce/)\n",
    "doconce format html exercisesweek47.do.txt  -->\n",
    "<!-- dom:TITLE: Exercise week 47 -->"
   ]
  },
  {
   "cell_type": "markdown",
   "id": "e4f3fe3f",
   "metadata": {},
   "source": [
    "# Exercise week 47\n",
    "**November 20-24, 2023**\n",
    "\n",
    "Date: **Deadline is Sunday November 26 at midnight**"
   ]
  },
  {
   "cell_type": "markdown",
   "id": "c1f597b7",
   "metadata": {},
   "source": [
    "# Overarching aims of the exercises this week\n",
    "\n",
    "The exercise this week is a simple course survey and feedback.  This\n",
    "is important for us in order to improve our teaching material, the\n",
    "active learning format and anything else related to a succesful\n",
    "mastering of central machine learning methods and their applications."
   ]
  },
  {
   "cell_type": "markdown",
   "id": "7497591b",
   "metadata": {},
   "source": [
    "### Why did you choose this course?"
   ]
  },
  {
   "cell_type": "markdown",
   "metadata": {},
   "source": [
    "Since being admitted to my master`s in computational science this was one of three mandatory courses that I needed to pass in order to follow the normed study progression. However, I also chose this course in favour of others due to it being highly applicable in other academic endeavours that I will come across throughout my masters. The curriculum looked appealing, while also challenging, hence an easy choice on my part."
   ]
  },
  {
   "cell_type": "markdown",
   "id": "1c08143f",
   "metadata": {},
   "source": [
    "### What was your programming knowledge before you started?\n",
    "\n",
    "And do you feel this course added to your programming competences and skills?"
   ]
  },
  {
   "cell_type": "markdown",
   "metadata": {},
   "source": [
    "On admittion to the master`s program I had a fair bit of knowledge within programming (though mainly python). From my bachelors (MAMI) I have had courses like IN1900, IN1910, IN2010 etc... which naturally made it easier to adapt to the demanding programming aspects of the projects.\n",
    "\n",
    "Nevertheless, must there be noted that this course has given me invaluable tools within programming and optimizing that I probably would not have experienced through simpler and more direct tasks. Such as can be the different techniques within regression analysis and the construction of Neural Networks from the ground up. And also just fiddling around with libraries in python to see how much different approaches affect computational costs."
   ]
  },
  {
   "cell_type": "markdown",
   "id": "9783d8a7",
   "metadata": {},
   "source": [
    "### How do you judge your own level of knowledge on machine learning before and after this course?\n",
    "\n",
    "Here you can discuss your level of skill/knowledge at start of course\n",
    "and at the end of the course and how these matched the level of\n",
    "skill/knowledge needed to complete the projects."
   ]
  },
  {
   "cell_type": "markdown",
   "metadata": {},
   "source": [
    "Prior to FYS-STK4155 I had been introuced to a lot of concepts within Machine Learning form IN3050. Sadly enough I did not feel that IN3050 gave you a rigid enough graps or understanding within the myriad fields of AI, which upon taken this course enlightened a lot of it. \n",
    "\n",
    "Now having properly worked with the applications of machine learning, hands on, I feel more confident in understanding how we actually train our models to learn in the correct manner. Though there is an endless mass of subgenres within machine learning I can more confidently say that this course has given me the guidings on how to proceed even further into the field, and also apply machine learning in a sense where optimizing the tasks become quintessential."
   ]
  },
  {
   "cell_type": "markdown",
   "id": "8b0d5c47",
   "metadata": {},
   "source": [
    "### Did the projects and the teaching material allow you to deepen your insights about Machine Learning?\n",
    "\n",
    "Feel free to comment here."
   ]
  },
  {
   "cell_type": "markdown",
   "metadata": {},
   "source": [
    "I suppose I have already written an answer to this through my prior paragraphs, and I will consolidate it by saying yes, yet again. The best way of wrapping your head around machine learning is to work on such projects as these. "
   ]
  },
  {
   "cell_type": "markdown",
   "id": "1ead8d47",
   "metadata": {},
   "source": [
    "### Project based teaching and active learning\n",
    "\n",
    "This is a project based course and we as teachers would like to keep\n",
    "it as it is since we see very clearly that people who attend this\n",
    "course have a very good learning outcome. Project based courses are\n",
    "however demanding (and expensive seen from the university admin) when\n",
    "it comes to proper feedback and evaluations. Feel free to discuss\n",
    "whether you found a project-based and active learning approach\n",
    "useful. Feel also free to comment upon things we can improve upon or\n",
    "alternative ways to assess whether the learning outcomes have been\n",
    "achieved. Would you for example a standard 4 hours written exam\n",
    "be something you would prefer?  Or other alternatives to projects? We\n",
    "would very much value your thoughts here since projects are an\n",
    "essential part of this course."
   ]
  },
  {
   "cell_type": "markdown",
   "metadata": {},
   "source": [
    "I as most of my other friends who study within the same fields find project oriented courses extremely valuable. Not only do they make you learn tons of applicable skills, but they also make you produce results that are valuable in almost every sense (almost every might be interepreted loosely here.) \n",
    "\n",
    "Though as you mention, they can also be very demanding and take up a lot of time, which for most people mean that other courses come at the expense. In my case I found that the projects might have been a little too broad in scope resulting in countless of hours (and days) being spent on tweaking, researching and writing a bit too much than neccessary. I am of course not trying to take away the extremely valuable outcome of the course, but seeing as it is only 10 (Studiepoeng), then it is quite hefty to follow through the projects fully and pedantically while also focusing on two other courses or more. \n",
    "\n",
    "Thus my only two-cents would be to limit the amount of coverage that each project carries, cause I understand that the desired outcome is for the student to grasp these essential concepts within Machine Learning and Data Analysis to so apply them and to be able to convey it in a concise manner on paper. Which is so so important to any academic."
   ]
  },
  {
   "cell_type": "markdown",
   "id": "746bd238",
   "metadata": {},
   "source": [
    "### Usefulness of the weekly exercises\n",
    "\n",
    "Did the weekly exercises help in getting started with the projects?\n",
    "How relevant where they for solving the projects?  Feel free to\n",
    "elaborate"
   ]
  },
  {
   "cell_type": "markdown",
   "metadata": {},
   "source": [
    "Without a doubt. Regular exercises and practice is paramount to be able to learn and understand. Sadly I did not have the time to finish all the exercises at the designated time, but I truly saw the value of them. "
   ]
  },
  {
   "cell_type": "markdown",
   "id": "2ce96822",
   "metadata": {},
   "source": [
    "### Active learning/lab sessions and lectures\n",
    "\n",
    "Was there a good link between lectures and active learning sessions?\n",
    "Would you prefer an active learning environment only with no lectures\n",
    "or would you prefer a more lecture based format with lab sessions only\n",
    "(that is no discussion at the beginning of the lab sessions)? Feel\n",
    "free to comment."
   ]
  },
  {
   "cell_type": "markdown",
   "metadata": {},
   "source": [
    "I feel that the concept and structure that is set up now is very optimal. I would not change too much as it stands."
   ]
  },
  {
   "cell_type": "markdown",
   "id": "5dc0637a",
   "metadata": {},
   "source": [
    "### How would you improve this course?\n",
    "\n",
    "Are there topics which are missing, topics which could have been\n",
    "omitted and/or discussed in more depth? Feel free to add your comments\n",
    "here such as how to improve to teaching material and more."
   ]
  },
  {
   "cell_type": "markdown",
   "metadata": {},
   "source": [
    "The curriculum is excellent, and seeing as it is free and accessible you can`t really fault anything. At times it might be a little confusing trying to understand some results that are used since notation varies, but I strongly believe that most people who follow through with the course understand what it is saying in the end. \n",
    "\n",
    "As an additional note I got to commend and appreciate the use and applications of examples. It is truly wonderful to have such many results, visuals, scripts etc.. to look at while reading. "
   ]
  },
  {
   "cell_type": "markdown",
   "id": "a98adf6c",
   "metadata": {},
   "source": [
    "## Then some basic questions"
   ]
  },
  {
   "cell_type": "markdown",
   "id": "3a935279",
   "metadata": {},
   "source": [
    "### Which is your preferred information chanel, Canvas, Discord, mail or other?"
   ]
  },
  {
   "cell_type": "markdown",
   "metadata": {},
   "source": [
    "Canvas, Mail"
   ]
  },
  {
   "cell_type": "markdown",
   "id": "41592552",
   "metadata": {},
   "source": [
    "### Was the weekly update with plans etc useful?"
   ]
  },
  {
   "cell_type": "markdown",
   "metadata": {},
   "source": [
    "Perfect. Absolutely perfect."
   ]
  },
  {
   "cell_type": "markdown",
   "id": "e79a2360",
   "metadata": {},
   "source": [
    "### Was it easy to access the course material?"
   ]
  },
  {
   "cell_type": "markdown",
   "metadata": {},
   "source": [
    "Everything was very accessible and clear."
   ]
  },
  {
   "cell_type": "markdown",
   "id": "8bc4dfc9",
   "metadata": {},
   "source": [
    "### Which resources and tools did you use? Jupyter-notebooks, GitHub, the various textbooks we have recommended, etc etc"
   ]
  },
  {
   "cell_type": "markdown",
   "metadata": {},
   "source": [
    "Jupyter-Notebooks (Most part), GitHub and tons of books"
   ]
  },
  {
   "cell_type": "markdown",
   "id": "bf415075",
   "metadata": {},
   "source": [
    "### If you did not attend the lectures or the active learning/lab sessions, which resources did you use?"
   ]
  },
  {
   "cell_type": "markdown",
   "metadata": {},
   "source": [
    "I was present at some lectures and lab sessions. Apart from that I used a lot of e-books and also Youtube (shocker)."
   ]
  },
  {
   "cell_type": "markdown",
   "id": "db3db20a",
   "metadata": {},
   "source": [
    "### Any other topics, impressions, ideas etc you would like to share with us?"
   ]
  },
  {
   "cell_type": "markdown",
   "metadata": {},
   "source": [
    "Nothing else than trying to maybe lessen the scope of the projects a little seeing how much time it takes to perfect programs and reports. And I also believe that in doing so a lot of reports that are written will turn out to be more concise and the learning outcome in writing will be elevated (mind my mistakes while writing all of this of course.)"
   ]
  },
  {
   "cell_type": "markdown",
   "metadata": {},
   "source": [
    "Thank you all for a very intriguing semester! "
   ]
  }
 ],
 "metadata": {
  "kernelspec": {
   "display_name": "Python 3 (ipykernel)",
   "language": "python",
   "name": "python3"
  },
  "language_info": {
   "codemirror_mode": {
    "name": "ipython",
    "version": 3
   },
   "file_extension": ".py",
   "mimetype": "text/x-python",
   "name": "python",
   "nbconvert_exporter": "python",
   "pygments_lexer": "ipython3",
   "version": "3.9.10"
  }
 },
 "nbformat": 4,
 "nbformat_minor": 5
}
